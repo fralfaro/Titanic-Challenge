{
 "cells": [
  {
   "cell_type": "markdown",
   "id": "54918d2e-65cd-49b7-afcf-e55beb75a7d3",
   "metadata": {},
   "source": [
    "# 📝 Feature Engineering\n",
    "\n",
    "## Introduction \n",
    "\n",
    "Feature engineering is a crucial step in the data preprocessing pipeline, aimed at enhancing the predictive power of machine learning models. For the Titanic dataset, this involves creating new features and modifying existing ones to better capture the underlying patterns that influence passenger survival.\n",
    "\n",
    "The Titanic dataset includes various columns such as 'Pclass', 'Name', 'Sex', 'Age', 'SibSp', 'Parch', 'Ticket', 'Fare', 'Cabin', and 'Embarked'. Each of these features holds potential insights into the survival outcomes, but they often require transformation and enrichment to become more effective for predictive modeling.\n",
    "\n",
    "Feature engineering is an iterative process that involves experimenting with different transformations and evaluating their impact on model performance. By carefully crafting and selecting features, we can significantly improve the accuracy and robustness of predictive models for the Titanic dataset."
   ]
  },
  {
   "cell_type": "markdown",
   "id": "b0fa23e2-6740-44c0-92a5-a4995f0506e7",
   "metadata": {},
   "source": [
    "## Feature Engineering\n",
    "\n",
    "\n",
    "This stage offers numerous opportunities for a deeper analysis, especially when comparing with other columns. However, for our practical purposes, we will follow this approach:\n",
    "\n",
    "* We will remove the 'Name' and 'Ticket' columns, as they do not initially contribute significantly to the model.\n",
    "* For the 'Age' variable, we will fill the missing values with the mean age.\n",
    "* We will address the 'Cabin' column by replacing the missing values with the most frequent value, thus optimizing data integrity.\n",
    "* We will change the data type of the 'Pclass', 'SibSp', and 'Parch' variables."
   ]
  },
  {
   "cell_type": "code",
   "execution_count": 1,
   "id": "8f1a61f9-f4af-403e-b1ed-c4ecf107532d",
   "metadata": {},
   "outputs": [],
   "source": [
    "# Libraries\n",
    "from loguru import logger\n",
    "import pandas as pd\n",
    "\n",
    "import matplotlib.pyplot as plt\n",
    "import seaborn as sns\n",
    "\n",
    "import warnings\n",
    "warnings.filterwarnings(\"ignore\")\n",
    "pd.set_option('display.max_columns', 500)\n",
    "pd.set_option('display.max_rows', 500)\n",
    "pd.set_option('display.float_format', lambda x: '%.3f' % x)"
   ]
  },
  {
   "cell_type": "code",
   "execution_count": 2,
   "id": "f260075c-8842-4d4c-833e-522bb39998ca",
   "metadata": {},
   "outputs": [
    {
     "name": "stderr",
     "output_type": "stream",
     "text": [
      "\u001b[32m2024-06-09 18:03:20.901\u001b[0m | \u001b[1mINFO    \u001b[0m | \u001b[36m__main__\u001b[0m:\u001b[36m<module>\u001b[0m:\u001b[36m1\u001b[0m - \u001b[1mRead Data\u001b[0m\n"
     ]
    }
   ],
   "source": [
    "logger.info(\"Read Data\")\n",
    "\n",
    "# Paths\n",
    "path_raw = \"../../data/raw/\"\n",
    "path_processed = \"../../data/processed/\"\n",
    "path_final = \"../../data/final/\"\n",
    "\n",
    "# Read data\n",
    "train = pd.read_csv(path_raw + \"train.csv\")\n",
    "test = pd.read_csv(path_raw + \"test.csv\")"
   ]
  },
  {
   "cell_type": "code",
   "execution_count": 3,
   "id": "fab0298e-f14b-4f21-a068-0814ef11eccb",
   "metadata": {},
   "outputs": [],
   "source": [
    "# Get column names by data types\n",
    "target = 'Survived'\n",
    "\n",
    "float_columns = [x for x in list(train.select_dtypes(include=['float64']).columns) if x != target]\n",
    "integer_columns = [x for x in list(train.select_dtypes(include=['int32', 'int64']).columns) if x != target]\n",
    "object_columns = [x for x in list(train.select_dtypes(include=['object']).columns) if x != target]"
   ]
  },
  {
   "cell_type": "code",
   "execution_count": 4,
   "id": "5106b43e-1772-4301-88cc-243183f77830",
   "metadata": {},
   "outputs": [
    {
     "name": "stderr",
     "output_type": "stream",
     "text": [
      "\u001b[32m2024-06-09 18:03:20.933\u001b[0m | \u001b[1mINFO    \u001b[0m | \u001b[36m__main__\u001b[0m:\u001b[36m<module>\u001b[0m:\u001b[36m1\u001b[0m - \u001b[1mRemove variables: 'Name' and 'Ticket'\u001b[0m\n"
     ]
    }
   ],
   "source": [
    "logger.info(\"Remove variables: 'Name' and 'Ticket'\")\n",
    "\n",
    "cols_delete = ['Name', 'Ticket']\n",
    "\n",
    "train = train.drop(cols_delete, axis=1)\n",
    "test = test.drop(cols_delete, axis=1)"
   ]
  },
  {
   "cell_type": "code",
   "execution_count": 5,
   "id": "8533e89a-f850-4841-96c1-220cb259656f",
   "metadata": {},
   "outputs": [
    {
     "name": "stderr",
     "output_type": "stream",
     "text": [
      "\u001b[32m2024-06-09 18:03:20.949\u001b[0m | \u001b[1mINFO    \u001b[0m | \u001b[36m__main__\u001b[0m:\u001b[36m<module>\u001b[0m:\u001b[36m1\u001b[0m - \u001b[1mFill 'Age' with the mean\u001b[0m\n"
     ]
    }
   ],
   "source": [
    "logger.info(\"Fill 'Age' with the mean\")\n",
    "age_mean = round(train['Age'].mean())\n",
    "\n",
    "train['Age'] = train['Age'].fillna(age_mean)\n",
    "test['Age'] = test['Age'].fillna(age_mean)"
   ]
  },
  {
   "cell_type": "code",
   "execution_count": 6,
   "id": "ddc0ce6e-74fd-4cdc-905d-e8d223e7dd38",
   "metadata": {},
   "outputs": [
    {
     "name": "stderr",
     "output_type": "stream",
     "text": [
      "\u001b[32m2024-06-09 18:03:20.965\u001b[0m | \u001b[1mINFO    \u001b[0m | \u001b[36m__main__\u001b[0m:\u001b[36m<module>\u001b[0m:\u001b[36m1\u001b[0m - \u001b[1mModify and fill missing values in 'Cabin'\u001b[0m\n"
     ]
    }
   ],
   "source": [
    "logger.info(\"Modify and fill missing values in 'Cabin'\")\n",
    "train['Cabin'] = train['Cabin'].fillna('N').str[0]\n",
    "test['Cabin'] = test['Cabin'].fillna('N').str[0]"
   ]
  },
  {
   "cell_type": "code",
   "execution_count": 7,
   "id": "d1fa15b1-f716-48d5-bc7f-f33ac386d1ef",
   "metadata": {},
   "outputs": [
    {
     "name": "stderr",
     "output_type": "stream",
     "text": [
      "\u001b[32m2024-06-09 18:03:20.981\u001b[0m | \u001b[1mINFO    \u001b[0m | \u001b[36m__main__\u001b[0m:\u001b[36m<module>\u001b[0m:\u001b[36m1\u001b[0m - \u001b[1mChange data type: 'Pclass', 'SibSp', and 'Parch'\u001b[0m\n"
     ]
    }
   ],
   "source": [
    "logger.info(\"Change data type: 'Pclass', 'SibSp', and 'Parch'\")\n",
    "\n",
    "columns_to_convert = ['Pclass', 'SibSp', 'Parch']\n",
    "train[columns_to_convert] = train[columns_to_convert].astype(str)\n",
    "test[columns_to_convert] = test[columns_to_convert].astype(str)"
   ]
  },
  {
   "cell_type": "code",
   "execution_count": 8,
   "id": "19e58c88-d793-4f49-8b9a-e17a61d4146c",
   "metadata": {},
   "outputs": [
    {
     "name": "stderr",
     "output_type": "stream",
     "text": [
      "\u001b[32m2024-06-09 18:03:20.996\u001b[0m | \u001b[1mINFO    \u001b[0m | \u001b[36m__main__\u001b[0m:\u001b[36m<module>\u001b[0m:\u001b[36m2\u001b[0m - \u001b[1mNew train data\u001b[0m\n"
     ]
    },
    {
     "data": {
      "text/html": [
       "<div>\n",
       "<style scoped>\n",
       "    .dataframe tbody tr th:only-of-type {\n",
       "        vertical-align: middle;\n",
       "    }\n",
       "\n",
       "    .dataframe tbody tr th {\n",
       "        vertical-align: top;\n",
       "    }\n",
       "\n",
       "    .dataframe thead th {\n",
       "        text-align: right;\n",
       "    }\n",
       "</style>\n",
       "<table border=\"1\" class=\"dataframe\">\n",
       "  <thead>\n",
       "    <tr style=\"text-align: right;\">\n",
       "      <th></th>\n",
       "      <th>PassengerId</th>\n",
       "      <th>Survived</th>\n",
       "      <th>Pclass</th>\n",
       "      <th>Sex</th>\n",
       "      <th>Age</th>\n",
       "      <th>SibSp</th>\n",
       "      <th>Parch</th>\n",
       "      <th>Fare</th>\n",
       "      <th>Cabin</th>\n",
       "      <th>Embarked</th>\n",
       "    </tr>\n",
       "  </thead>\n",
       "  <tbody>\n",
       "    <tr>\n",
       "      <th>0</th>\n",
       "      <td>1</td>\n",
       "      <td>0</td>\n",
       "      <td>3</td>\n",
       "      <td>male</td>\n",
       "      <td>22.000</td>\n",
       "      <td>1</td>\n",
       "      <td>0</td>\n",
       "      <td>7.250</td>\n",
       "      <td>N</td>\n",
       "      <td>S</td>\n",
       "    </tr>\n",
       "    <tr>\n",
       "      <th>1</th>\n",
       "      <td>2</td>\n",
       "      <td>1</td>\n",
       "      <td>1</td>\n",
       "      <td>female</td>\n",
       "      <td>38.000</td>\n",
       "      <td>1</td>\n",
       "      <td>0</td>\n",
       "      <td>71.283</td>\n",
       "      <td>C</td>\n",
       "      <td>C</td>\n",
       "    </tr>\n",
       "    <tr>\n",
       "      <th>2</th>\n",
       "      <td>3</td>\n",
       "      <td>1</td>\n",
       "      <td>3</td>\n",
       "      <td>female</td>\n",
       "      <td>26.000</td>\n",
       "      <td>0</td>\n",
       "      <td>0</td>\n",
       "      <td>7.925</td>\n",
       "      <td>N</td>\n",
       "      <td>S</td>\n",
       "    </tr>\n",
       "    <tr>\n",
       "      <th>3</th>\n",
       "      <td>4</td>\n",
       "      <td>1</td>\n",
       "      <td>1</td>\n",
       "      <td>female</td>\n",
       "      <td>35.000</td>\n",
       "      <td>1</td>\n",
       "      <td>0</td>\n",
       "      <td>53.100</td>\n",
       "      <td>C</td>\n",
       "      <td>S</td>\n",
       "    </tr>\n",
       "    <tr>\n",
       "      <th>4</th>\n",
       "      <td>5</td>\n",
       "      <td>0</td>\n",
       "      <td>3</td>\n",
       "      <td>male</td>\n",
       "      <td>35.000</td>\n",
       "      <td>0</td>\n",
       "      <td>0</td>\n",
       "      <td>8.050</td>\n",
       "      <td>N</td>\n",
       "      <td>S</td>\n",
       "    </tr>\n",
       "  </tbody>\n",
       "</table>\n",
       "</div>"
      ],
      "text/plain": [
       "   PassengerId  Survived Pclass     Sex    Age SibSp Parch   Fare Cabin  \\\n",
       "0            1         0      3    male 22.000     1     0  7.250     N   \n",
       "1            2         1      1  female 38.000     1     0 71.283     C   \n",
       "2            3         1      3  female 26.000     0     0  7.925     N   \n",
       "3            4         1      1  female 35.000     1     0 53.100     C   \n",
       "4            5         0      3    male 35.000     0     0  8.050     N   \n",
       "\n",
       "  Embarked  \n",
       "0        S  \n",
       "1        C  \n",
       "2        S  \n",
       "3        S  \n",
       "4        S  "
      ]
     },
     "execution_count": 8,
     "metadata": {},
     "output_type": "execute_result"
    }
   ],
   "source": [
    "# Display train and test dataset\n",
    "logger.info(\"New train data\")\n",
    "train.head()"
   ]
  },
  {
   "cell_type": "code",
   "execution_count": 9,
   "id": "d9fa54f3-12b3-45f5-8c6a-224f10d16b3c",
   "metadata": {},
   "outputs": [
    {
     "name": "stderr",
     "output_type": "stream",
     "text": [
      "\u001b[32m2024-06-09 18:03:21.011\u001b[0m | \u001b[1mINFO    \u001b[0m | \u001b[36m__main__\u001b[0m:\u001b[36m<module>\u001b[0m:\u001b[36m1\u001b[0m - \u001b[1mNew test data\u001b[0m\n"
     ]
    },
    {
     "data": {
      "text/html": [
       "<div>\n",
       "<style scoped>\n",
       "    .dataframe tbody tr th:only-of-type {\n",
       "        vertical-align: middle;\n",
       "    }\n",
       "\n",
       "    .dataframe tbody tr th {\n",
       "        vertical-align: top;\n",
       "    }\n",
       "\n",
       "    .dataframe thead th {\n",
       "        text-align: right;\n",
       "    }\n",
       "</style>\n",
       "<table border=\"1\" class=\"dataframe\">\n",
       "  <thead>\n",
       "    <tr style=\"text-align: right;\">\n",
       "      <th></th>\n",
       "      <th>PassengerId</th>\n",
       "      <th>Pclass</th>\n",
       "      <th>Sex</th>\n",
       "      <th>Age</th>\n",
       "      <th>SibSp</th>\n",
       "      <th>Parch</th>\n",
       "      <th>Fare</th>\n",
       "      <th>Cabin</th>\n",
       "      <th>Embarked</th>\n",
       "    </tr>\n",
       "  </thead>\n",
       "  <tbody>\n",
       "    <tr>\n",
       "      <th>0</th>\n",
       "      <td>892</td>\n",
       "      <td>3</td>\n",
       "      <td>male</td>\n",
       "      <td>34.500</td>\n",
       "      <td>0</td>\n",
       "      <td>0</td>\n",
       "      <td>7.829</td>\n",
       "      <td>N</td>\n",
       "      <td>Q</td>\n",
       "    </tr>\n",
       "    <tr>\n",
       "      <th>1</th>\n",
       "      <td>893</td>\n",
       "      <td>3</td>\n",
       "      <td>female</td>\n",
       "      <td>47.000</td>\n",
       "      <td>1</td>\n",
       "      <td>0</td>\n",
       "      <td>7.000</td>\n",
       "      <td>N</td>\n",
       "      <td>S</td>\n",
       "    </tr>\n",
       "    <tr>\n",
       "      <th>2</th>\n",
       "      <td>894</td>\n",
       "      <td>2</td>\n",
       "      <td>male</td>\n",
       "      <td>62.000</td>\n",
       "      <td>0</td>\n",
       "      <td>0</td>\n",
       "      <td>9.688</td>\n",
       "      <td>N</td>\n",
       "      <td>Q</td>\n",
       "    </tr>\n",
       "    <tr>\n",
       "      <th>3</th>\n",
       "      <td>895</td>\n",
       "      <td>3</td>\n",
       "      <td>male</td>\n",
       "      <td>27.000</td>\n",
       "      <td>0</td>\n",
       "      <td>0</td>\n",
       "      <td>8.662</td>\n",
       "      <td>N</td>\n",
       "      <td>S</td>\n",
       "    </tr>\n",
       "    <tr>\n",
       "      <th>4</th>\n",
       "      <td>896</td>\n",
       "      <td>3</td>\n",
       "      <td>female</td>\n",
       "      <td>22.000</td>\n",
       "      <td>1</td>\n",
       "      <td>1</td>\n",
       "      <td>12.287</td>\n",
       "      <td>N</td>\n",
       "      <td>S</td>\n",
       "    </tr>\n",
       "  </tbody>\n",
       "</table>\n",
       "</div>"
      ],
      "text/plain": [
       "   PassengerId Pclass     Sex    Age SibSp Parch   Fare Cabin Embarked\n",
       "0          892      3    male 34.500     0     0  7.829     N        Q\n",
       "1          893      3  female 47.000     1     0  7.000     N        S\n",
       "2          894      2    male 62.000     0     0  9.688     N        Q\n",
       "3          895      3    male 27.000     0     0  8.662     N        S\n",
       "4          896      3  female 22.000     1     1 12.287     N        S"
      ]
     },
     "execution_count": 9,
     "metadata": {},
     "output_type": "execute_result"
    }
   ],
   "source": [
    "logger.info(\"New test data\")\n",
    "test.head()"
   ]
  },
  {
   "cell_type": "code",
   "execution_count": 10,
   "id": "6653c235-76ef-4c0e-8d9a-d42bafb30977",
   "metadata": {},
   "outputs": [
    {
     "name": "stderr",
     "output_type": "stream",
     "text": [
      "\u001b[32m2024-06-09 18:03:21.031\u001b[0m | \u001b[1mINFO    \u001b[0m | \u001b[36m__main__\u001b[0m:\u001b[36m<module>\u001b[0m:\u001b[36m1\u001b[0m - \u001b[1mSave Results\u001b[0m\n"
     ]
    }
   ],
   "source": [
    "logger.info(\"Save Results\")\n",
    "\n",
    "train.to_csv(path_processed + 'train.csv', sep=',', index=False)\n",
    "test.to_csv(path_processed + 'test.csv', sep=',', index=False)"
   ]
  },
  {
   "cell_type": "markdown",
   "id": "7db0411f-4a16-40e3-bea7-6fdf79d2cb87",
   "metadata": {},
   "source": [
    "## Conclusion\n",
    "\n",
    "\n",
    "In our feature engineering process for the Titanic dataset, we undertook several steps to prepare the data for effective modeling:\n",
    "\n",
    "1. **Removal of Non-Contributory Columns:** We removed the 'Name' and 'Ticket' columns, as they did not provide significant predictive value for our model.\n",
    "2. **Handling Missing Values:**\n",
    "   - For the 'Age' column, missing values were filled with the mean age to maintain consistency and avoid data loss.\n",
    "   - For the 'Cabin' column, missing values were replaced with the most frequent value ('N'), and only the first letter of the cabin was retained to simplify the data.\n",
    "3. **Data Type Conversion:** The columns 'Pclass', 'SibSp', and 'Parch' were converted from numerical to string type to better capture categorical relationships.\n",
    "4. **Data Saving:** The processed training and test datasets were saved for future modeling and analysis.\n",
    "\n",
    "These feature engineering steps have improved the quality and usability of the dataset, ensuring that it is well-prepared for subsequent analysis and machine learning tasks. By addressing missing values, simplifying categorical data, and removing unnecessary columns, we have created a more robust and interpretable dataset for predicting passenger survival on the Titanic."
   ]
  }
 ],
 "metadata": {
  "kernelspec": {
   "display_name": "Python 3 (ipykernel)",
   "language": "python",
   "name": "python3"
  },
  "language_info": {
   "codemirror_mode": {
    "name": "ipython",
    "version": 3
   },
   "file_extension": ".py",
   "mimetype": "text/x-python",
   "name": "python",
   "nbconvert_exporter": "python",
   "pygments_lexer": "ipython3",
   "version": "3.10.11"
  },
  "nbTranslate": {
   "displayLangs": [
    "*"
   ],
   "hotkey": "alt-t",
   "langInMainMenu": true,
   "sourceLang": "en",
   "targetLang": "fr",
   "useGoogleTranslate": true
  }
 },
 "nbformat": 4,
 "nbformat_minor": 5
}
